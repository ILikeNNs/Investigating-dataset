{
 "cells": [
  {
   "cell_type": "code",
   "execution_count": 1,
   "metadata": {
    "collapsed": false
   },
   "outputs": [],
   "source": [
    "#importing libraries necessary to make all the calculations and plots\n",
    "import matplotlib.pyplot as plt\n",
    "import numpy as np\n",
    "import pandas as pd\n",
    "from scipy import stats\n",
    "\n",
    "#making sure we do not lose the graphs\n",
    "%matplotlib inline"
   ]
  },
  {
   "cell_type": "markdown",
   "metadata": {},
   "source": [
    "  "
   ]
  },
  {
   "cell_type": "markdown",
   "metadata": {},
   "source": [
    "<b> <font size = '6.5'> Surviving the Titanic crash - a short analysis </font size = '6.5'> </b>"
   ]
  },
  {
   "cell_type": "markdown",
   "metadata": {},
   "source": [
    "<b> <font size='5'> 1. Introduction </b> </font size='5'>\n",
    "\n",
    "The Titanic crash from 1912 is one of the most tragic and infamous catastrophes the civilized world has ever seen. The collision with an iceberg caused around 1,500 deaths. The rest of the passengers (around 600-700), however, survived the ordeal.\n",
    "\n",
    "RMS Titanic was a gigantic vessel, enabling people from all walks of life to participate in a transatlantic journey. Not all people were equal when it came to the evacuation efforts. The purpose of this analysis is to look at the factors which might have influenced a passenger's survival chances based on their age, gender or social status."
   ]
  },
  {
   "cell_type": "markdown",
   "metadata": {},
   "source": [
    "<b><font size='5'>2. Data description</b></font size='5'>"
   ]
  },
  {
   "cell_type": "code",
   "execution_count": 2,
   "metadata": {
    "collapsed": false
   },
   "outputs": [
    {
     "name": "stdout",
     "output_type": "stream",
     "text": [
      "(891, 12)\n"
     ]
    },
    {
     "data": {
      "text/html": [
       "<div>\n",
       "<table border=\"1\" class=\"dataframe\">\n",
       "  <thead>\n",
       "    <tr style=\"text-align: right;\">\n",
       "      <th></th>\n",
       "      <th>PassengerId</th>\n",
       "      <th>Survived</th>\n",
       "      <th>Pclass</th>\n",
       "      <th>Name</th>\n",
       "      <th>Sex</th>\n",
       "      <th>Age</th>\n",
       "      <th>SibSp</th>\n",
       "      <th>Parch</th>\n",
       "      <th>Ticket</th>\n",
       "      <th>Fare</th>\n",
       "      <th>Cabin</th>\n",
       "      <th>Embarked</th>\n",
       "    </tr>\n",
       "  </thead>\n",
       "  <tbody>\n",
       "    <tr>\n",
       "      <th>0</th>\n",
       "      <td>1</td>\n",
       "      <td>0</td>\n",
       "      <td>3</td>\n",
       "      <td>Braund, Mr. Owen Harris</td>\n",
       "      <td>male</td>\n",
       "      <td>22.0</td>\n",
       "      <td>1</td>\n",
       "      <td>0</td>\n",
       "      <td>A/5 21171</td>\n",
       "      <td>7.2500</td>\n",
       "      <td>NaN</td>\n",
       "      <td>S</td>\n",
       "    </tr>\n",
       "    <tr>\n",
       "      <th>1</th>\n",
       "      <td>2</td>\n",
       "      <td>1</td>\n",
       "      <td>1</td>\n",
       "      <td>Cumings, Mrs. John Bradley (Florence Briggs Th...</td>\n",
       "      <td>female</td>\n",
       "      <td>38.0</td>\n",
       "      <td>1</td>\n",
       "      <td>0</td>\n",
       "      <td>PC 17599</td>\n",
       "      <td>71.2833</td>\n",
       "      <td>C85</td>\n",
       "      <td>C</td>\n",
       "    </tr>\n",
       "    <tr>\n",
       "      <th>2</th>\n",
       "      <td>3</td>\n",
       "      <td>1</td>\n",
       "      <td>3</td>\n",
       "      <td>Heikkinen, Miss. Laina</td>\n",
       "      <td>female</td>\n",
       "      <td>26.0</td>\n",
       "      <td>0</td>\n",
       "      <td>0</td>\n",
       "      <td>STON/O2. 3101282</td>\n",
       "      <td>7.9250</td>\n",
       "      <td>NaN</td>\n",
       "      <td>S</td>\n",
       "    </tr>\n",
       "    <tr>\n",
       "      <th>3</th>\n",
       "      <td>4</td>\n",
       "      <td>1</td>\n",
       "      <td>1</td>\n",
       "      <td>Futrelle, Mrs. Jacques Heath (Lily May Peel)</td>\n",
       "      <td>female</td>\n",
       "      <td>35.0</td>\n",
       "      <td>1</td>\n",
       "      <td>0</td>\n",
       "      <td>113803</td>\n",
       "      <td>53.1000</td>\n",
       "      <td>C123</td>\n",
       "      <td>S</td>\n",
       "    </tr>\n",
       "    <tr>\n",
       "      <th>4</th>\n",
       "      <td>5</td>\n",
       "      <td>0</td>\n",
       "      <td>3</td>\n",
       "      <td>Allen, Mr. William Henry</td>\n",
       "      <td>male</td>\n",
       "      <td>35.0</td>\n",
       "      <td>0</td>\n",
       "      <td>0</td>\n",
       "      <td>373450</td>\n",
       "      <td>8.0500</td>\n",
       "      <td>NaN</td>\n",
       "      <td>S</td>\n",
       "    </tr>\n",
       "  </tbody>\n",
       "</table>\n",
       "</div>"
      ],
      "text/plain": [
       "   PassengerId  Survived  Pclass  \\\n",
       "0            1         0       3   \n",
       "1            2         1       1   \n",
       "2            3         1       3   \n",
       "3            4         1       1   \n",
       "4            5         0       3   \n",
       "\n",
       "                                                Name     Sex   Age  SibSp  \\\n",
       "0                            Braund, Mr. Owen Harris    male  22.0      1   \n",
       "1  Cumings, Mrs. John Bradley (Florence Briggs Th...  female  38.0      1   \n",
       "2                             Heikkinen, Miss. Laina  female  26.0      0   \n",
       "3       Futrelle, Mrs. Jacques Heath (Lily May Peel)  female  35.0      1   \n",
       "4                           Allen, Mr. William Henry    male  35.0      0   \n",
       "\n",
       "   Parch            Ticket     Fare Cabin Embarked  \n",
       "0      0         A/5 21171   7.2500   NaN        S  \n",
       "1      0          PC 17599  71.2833   C85        C  \n",
       "2      0  STON/O2. 3101282   7.9250   NaN        S  \n",
       "3      0            113803  53.1000  C123        S  \n",
       "4      0            373450   8.0500   NaN        S  "
      ]
     },
     "execution_count": 2,
     "metadata": {},
     "output_type": "execute_result"
    }
   ],
   "source": [
    "#reading data\n",
    "data = pd.read_csv('titanic_data.csv')\n",
    "#how many records\n",
    "print data.shape\n",
    "#first five records\n",
    "data.head()"
   ]
  },
  {
   "cell_type": "markdown",
   "metadata": {},
   "source": [
    "The data is loaded into a Pandas dataframe. The number of records (rows) is checked - we can see that the dataset does not cover all Titanic passengers, but only 891 of them.\n",
    "\n",
    "Then, we can see the first five rows, which gives a rough idea as to what types of data will be dealt with. PassengerId, in the first column seems to be a unique passenger Id. On the other hand, the binary variable \"Survived\" is the most important point of the analysis, having 1 for people who survived the crash and 0 for people who unfortunately died. Pclass can be considered a proxy to the social status - there were three boarding classes on the ship, with poorer people going by 3rd class, and the richest by the first.\n",
    "\n",
    "Passengers are also listed by their names, ages and sex. The variables SibSp and Parch give the number of siblings/spouses and parents/children present with a specific passenger on board. Apart from that, a ticket number, passenger fare, cabin number and port of embarkation can also be found."
   ]
  },
  {
   "cell_type": "markdown",
   "metadata": {
    "collapsed": true
   },
   "source": [
    "<b><font size='5'>3. Analysis</b><font size='5'>"
   ]
  },
  {
   "cell_type": "markdown",
   "metadata": {},
   "source": [
    "The following analysis will try to establish a relationship between survival chance and various characteristics of passengers.\n",
    "\n",
    "First of all, it seems reasonable to differentiate between men and women. It might seem obvious that women were more likely to enter lifeboats than men, but it is worth checking if the difference (if there was any) was statistically significant. Secondly, it will be interesting to find out whether people were discriminated against because of their social status. If so, people travelling with the first class should be more likely to survive the catastrophe. Finally, age might have played an important role in determining who survived. Before beginning the analysis, I will check if there are any NaNs in the columns I want to include."
   ]
  },
  {
   "cell_type": "code",
   "execution_count": 3,
   "metadata": {
    "collapsed": false
   },
   "outputs": [
    {
     "name": "stdout",
     "output_type": "stream",
     "text": [
      "Missing data for passengers' IDs: 0\n",
      "Missing data for column describing survival: 0\n",
      "Missing data for travelling class 0\n",
      "Missing data for gender: 0\n",
      "Missing data for age: 177\n"
     ]
    }
   ],
   "source": [
    "print \"Missing data for passengers' IDs: \" + str(data['PassengerId'].isnull().sum())\n",
    "print \"Missing data for column describing survival: \" + str(data['Survived'].isnull().sum())\n",
    "print \"Missing data for travelling class \" + str(data['Pclass'].isnull().sum())\n",
    "print \"Missing data for gender: \" + str(data['Sex'].isnull().sum())\n",
    "print \"Missing data for age: \" + str(data['Age'].isnull().sum())"
   ]
  },
  {
   "cell_type": "markdown",
   "metadata": {},
   "source": [
    "We can see that there is missing data only for the age variable. This will have to be taken into account while analyzing the variable at a later stage."
   ]
  },
  {
   "cell_type": "markdown",
   "metadata": {},
   "source": [
    "<b><font size='4'>3.1. 1d analysis of chosen variables </b></font size='4'>"
   ]
  },
  {
   "cell_type": "markdown",
   "metadata": {},
   "source": [
    "The procedure below tries to cut down on the code needed to analyze single variables. It returns a count and proportion of passengers bearing certain characteristics. The variable 'PassengerId' was used to group the passengers, as each passenger has got a unique id, which is checked with the first line of code in the cell below. As the printed number matches the number of rows, we can be certain that each row begins with a different passenger ID."
   ]
  },
  {
   "cell_type": "code",
   "execution_count": 4,
   "metadata": {
    "collapsed": false
   },
   "outputs": [
    {
     "name": "stdout",
     "output_type": "stream",
     "text": [
      "891\n"
     ]
    }
   ],
   "source": [
    "print len(set(data['PassengerId']))\n",
    "\n",
    "def counted(dataset,by,column):\n",
    "    #counting percentages for a given category\n",
    "    resultperc = dataset.groupby(by).size()/dataset.groupby(by).size().sum() \n",
    "    #the absolute number of counts\n",
    "    resultnum = dataset.groupby(by).count()[column]\n",
    "    #returns a concatenation of two series with column labels renamed\n",
    "    return pd.concat([resultperc.round(2).rename(\"proportion\"), resultnum.rename(\"count\")], axis=1)"
   ]
  },
  {
   "cell_type": "code",
   "execution_count": 5,
   "metadata": {
    "collapsed": false
   },
   "outputs": [
    {
     "data": {
      "text/html": [
       "<div>\n",
       "<table border=\"1\" class=\"dataframe\">\n",
       "  <thead>\n",
       "    <tr style=\"text-align: right;\">\n",
       "      <th></th>\n",
       "      <th>proportion</th>\n",
       "      <th>count</th>\n",
       "    </tr>\n",
       "    <tr>\n",
       "      <th>Survived</th>\n",
       "      <th></th>\n",
       "      <th></th>\n",
       "    </tr>\n",
       "  </thead>\n",
       "  <tbody>\n",
       "    <tr>\n",
       "      <th>0</th>\n",
       "      <td>0.62</td>\n",
       "      <td>549</td>\n",
       "    </tr>\n",
       "    <tr>\n",
       "      <th>1</th>\n",
       "      <td>0.38</td>\n",
       "      <td>342</td>\n",
       "    </tr>\n",
       "  </tbody>\n",
       "</table>\n",
       "</div>"
      ],
      "text/plain": [
       "          proportion  count\n",
       "Survived                   \n",
       "0               0.62    549\n",
       "1               0.38    342"
      ]
     },
     "execution_count": 5,
     "metadata": {},
     "output_type": "execute_result"
    }
   ],
   "source": [
    "counted(data, 'Survived','PassengerId')"
   ]
  },
  {
   "cell_type": "markdown",
   "metadata": {},
   "source": [
    "The dependent variable has been analyzed first. As we can see, 62% of analyzed passengers (549 people) did not survive the catastrophe, whereas 342 (or 38%) survived. It is also clearly visible that the data seems to be correct, as there are no values other than '0' and '1'."
   ]
  },
  {
   "cell_type": "code",
   "execution_count": 6,
   "metadata": {
    "collapsed": false
   },
   "outputs": [
    {
     "data": {
      "text/html": [
       "<div>\n",
       "<table border=\"1\" class=\"dataframe\">\n",
       "  <thead>\n",
       "    <tr style=\"text-align: right;\">\n",
       "      <th></th>\n",
       "      <th>proportion</th>\n",
       "      <th>count</th>\n",
       "    </tr>\n",
       "    <tr>\n",
       "      <th>Sex</th>\n",
       "      <th></th>\n",
       "      <th></th>\n",
       "    </tr>\n",
       "  </thead>\n",
       "  <tbody>\n",
       "    <tr>\n",
       "      <th>female</th>\n",
       "      <td>0.35</td>\n",
       "      <td>314</td>\n",
       "    </tr>\n",
       "    <tr>\n",
       "      <th>male</th>\n",
       "      <td>0.65</td>\n",
       "      <td>577</td>\n",
       "    </tr>\n",
       "  </tbody>\n",
       "</table>\n",
       "</div>"
      ],
      "text/plain": [
       "        proportion  count\n",
       "Sex                      \n",
       "female        0.35    314\n",
       "male          0.65    577"
      ]
     },
     "execution_count": 6,
     "metadata": {},
     "output_type": "execute_result"
    }
   ],
   "source": [
    "counted(data, 'Sex', 'PassengerId')"
   ]
  },
  {
   "cell_type": "markdown",
   "metadata": {},
   "source": [
    "As for the split by sex, we can see that there were more men than women among Titanic passengers. Females amounted to over 35% of all passengers, whereas males made almost 65%."
   ]
  },
  {
   "cell_type": "code",
   "execution_count": 7,
   "metadata": {
    "collapsed": false
   },
   "outputs": [
    {
     "data": {
      "text/html": [
       "<div>\n",
       "<table border=\"1\" class=\"dataframe\">\n",
       "  <thead>\n",
       "    <tr style=\"text-align: right;\">\n",
       "      <th></th>\n",
       "      <th>proportion</th>\n",
       "      <th>count</th>\n",
       "    </tr>\n",
       "    <tr>\n",
       "      <th>Pclass</th>\n",
       "      <th></th>\n",
       "      <th></th>\n",
       "    </tr>\n",
       "  </thead>\n",
       "  <tbody>\n",
       "    <tr>\n",
       "      <th>1</th>\n",
       "      <td>0.24</td>\n",
       "      <td>216</td>\n",
       "    </tr>\n",
       "    <tr>\n",
       "      <th>2</th>\n",
       "      <td>0.21</td>\n",
       "      <td>184</td>\n",
       "    </tr>\n",
       "    <tr>\n",
       "      <th>3</th>\n",
       "      <td>0.55</td>\n",
       "      <td>491</td>\n",
       "    </tr>\n",
       "  </tbody>\n",
       "</table>\n",
       "</div>"
      ],
      "text/plain": [
       "        proportion  count\n",
       "Pclass                   \n",
       "1             0.24    216\n",
       "2             0.21    184\n",
       "3             0.55    491"
      ]
     },
     "execution_count": 7,
     "metadata": {},
     "output_type": "execute_result"
    }
   ],
   "source": [
    "prop = counted(data, 'Pclass', 'PassengerId')\n",
    "prop"
   ]
  },
  {
   "cell_type": "markdown",
   "metadata": {},
   "source": [
    "Another variable that will be later used for analysis is the Pclass, which can be considered a proxy to social status of passengers. Over half of the passengers (55%) were in Class 3, whereas the rest travelled in Class 2 (21% or 184 people) and Class 1 (24% or 216 people). A pie chart will be added to better visualize the data."
   ]
  },
  {
   "cell_type": "code",
   "execution_count": 8,
   "metadata": {
    "collapsed": false
   },
   "outputs": [
    {
     "data": {
      "image/png": "[encoded data removed]",
      "text/plain": [
       "<matplotlib.figure.Figure at 0xa1d8c18>"
      ]
     },
     "metadata": {},
     "output_type": "display_data"
    }
   ],
   "source": [
    "plt.figure(1, figsize=(4,4)) #defining a figure\n",
    "plt.title('Split of passengers by class', fontsize=18, fontweight='bold') \n",
    "#getting texts and autotexts for the pie chart to better visualize the data\n",
    "patches, texts, autotexts = plt.pie(prop['proportion'], autopct='%1.0f%%', labels=prop.index, startangle=90) \n",
    "#looping through text elements of the chart to format them\n",
    "for i in range(len(texts)):\n",
    "    autotexts[i].set_color('white')\n",
    "    autotexts[i].set_fontsize(16)\n",
    "    texts[i].set_fontsize(16)"
   ]
  },
  {
   "cell_type": "markdown",
   "metadata": {},
   "source": [
    "The last variable I would like to analyze is the age of passengers. As this is not a binary variable, It will be better to use a histogram. As mentioned before, the age variable was also the only one with missing data. As age cannot be estimated with the dataset that I have, it will be wiser to drop all missing values. After doing this, I can analyze the data by plotting a histogram with 10-year bin widths. To make sure I do not miss any extreme values (stemming from possible problems with data), I get the max and min values first."
   ]
  },
  {
   "cell_type": "code",
   "execution_count": 9,
   "metadata": {
    "collapsed": false
   },
   "outputs": [
    {
     "name": "stdout",
     "output_type": "stream",
     "text": [
      "Max age: 80.0\n",
      "Min age: 0.42\n",
      "Mean age: 29.7\n",
      "Median age: 28.0\n"
     ]
    },
    {
     "data": {
      "text/plain": [
       "<matplotlib.text.Text at 0xa4b9d30>"
      ]
     },
     "execution_count": 9,
     "metadata": {},
     "output_type": "execute_result"
    },
    {
     "data": {
      "image/png": "[encoded data removed]",
      "text/plain": [
       "<matplotlib.figure.Figure at 0xa1d8358>"
      ]
     },
     "metadata": {},
     "output_type": "display_data"
    }
   ],
   "source": [
    "values = data['Age'].dropna()\n",
    "print 'Max age: ' + str(values.max())\n",
    "print 'Min age: ' + str(values.min())\n",
    "print 'Mean age: ' + str(round(values.mean(),2))\n",
    "print 'Median age: ' + str(values.median())\n",
    "plt.hist(values, bins=np.arange(0, max(values) + 20, 10), color = 'green')\n",
    "plt.title(\"Passengers' age distribution\", fontsize=18, fontweight='bold') \n",
    "plt.xlabel(\"Age in years\")\n",
    "plt.ylabel(\"Frequency\")"
   ]
  },
  {
   "cell_type": "markdown",
   "metadata": {},
   "source": [
    "It is clearly visible from the graph that there was a prevalence of young people on board. The mean amount to 29.7 years, while the median is 28. Most people were aged between 20 and 40 years. The youngest person among the analyzed passengers was less than one year old, whereas the oldest was 80 years old."
   ]
  },
  {
   "cell_type": "markdown",
   "metadata": {},
   "source": [
    "<b><font size='4'>3.2. 2d analysis of chosen variables </b></font size='4'>"
   ]
  },
  {
   "cell_type": "markdown",
   "metadata": {},
   "source": [
    "The following procedure is a changed version of the procedure from chapter 3.1. It is adapted to handling one variable more, as it will be necessary to split the count of survivors by gender and passenger class."
   ]
  },
  {
   "cell_type": "code",
   "execution_count": 10,
   "metadata": {
    "collapsed": false
   },
   "outputs": [],
   "source": [
    "def counted2(dataset,by,by2,column):\n",
    "    #count of one category split by another category\n",
    "    s = dataset.groupby([by, by2]).count()[column]\n",
    "    #renaming the column\n",
    "    s.rename('count', inplace=True)\n",
    "    #percentage of one category split by another category\n",
    "    resultperc1 = dataset.groupby([by, by2]).agg({column: 'count'})\n",
    "    resultperc2 = resultperc1.div(dataset.groupby(by).agg({column: 'count'}), level=by)\n",
    "    #renaming another column\n",
    "    resultperc2.rename(columns={column:'proportion'}, inplace=True)\n",
    "    #returning a concatenation of a dataframe (with percentages) and a series turned into a dataframe (count)\n",
    "    return pd.concat([resultperc2.round(2), pd.DataFrame(s)], axis=1)"
   ]
  },
  {
   "cell_type": "code",
   "execution_count": 11,
   "metadata": {
    "collapsed": false
   },
   "outputs": [
    {
     "data": {
      "text/html": [
       "<div>\n",
       "<table border=\"1\" class=\"dataframe\">\n",
       "  <thead>\n",
       "    <tr style=\"text-align: right;\">\n",
       "      <th></th>\n",
       "      <th></th>\n",
       "      <th>proportion</th>\n",
       "      <th>count</th>\n",
       "    </tr>\n",
       "    <tr>\n",
       "      <th>Sex</th>\n",
       "      <th>Survived</th>\n",
       "      <th></th>\n",
       "      <th></th>\n",
       "    </tr>\n",
       "  </thead>\n",
       "  <tbody>\n",
       "    <tr>\n",
       "      <th rowspan=\"2\" valign=\"top\">female</th>\n",
       "      <th>0</th>\n",
       "      <td>0.26</td>\n",
       "      <td>81</td>\n",
       "    </tr>\n",
       "    <tr>\n",
       "      <th>1</th>\n",
       "      <td>0.74</td>\n",
       "      <td>233</td>\n",
       "    </tr>\n",
       "    <tr>\n",
       "      <th rowspan=\"2\" valign=\"top\">male</th>\n",
       "      <th>0</th>\n",
       "      <td>0.81</td>\n",
       "      <td>468</td>\n",
       "    </tr>\n",
       "    <tr>\n",
       "      <th>1</th>\n",
       "      <td>0.19</td>\n",
       "      <td>109</td>\n",
       "    </tr>\n",
       "  </tbody>\n",
       "</table>\n",
       "</div>"
      ],
      "text/plain": [
       "                 proportion  count\n",
       "Sex    Survived                   \n",
       "female 0               0.26     81\n",
       "       1               0.74    233\n",
       "male   0               0.81    468\n",
       "       1               0.19    109"
      ]
     },
     "execution_count": 11,
     "metadata": {},
     "output_type": "execute_result"
    }
   ],
   "source": [
    "gend_surv = counted2(data, 'Sex','Survived', 'PassengerId')\n",
    "gend_surv"
   ]
  },
  {
   "cell_type": "markdown",
   "metadata": {},
   "source": [
    "The following data frame shows that about one in four women did not survive the catastrophe. On the other hand, men were much less likely to live. Around one in five men survived the Titanic crash. Despite the fact that it seems clear that the proportion of survivors is higher for women than men, it is worth checking it with a statistical test.\n",
    "\n",
    "The correct test is the test for two proportions. \n",
    "\n",
    "The null and alternative hypotheses will be as follows:\n",
    "\n",
    "$$H_0: p_1 \\leq p_2$$\n",
    "$$H_1: p_1 > p_2$$\n",
    "\n",
    "According to the null hypothesis, women were not more likely to survive the catastrophe than men (they were equally or less likely to do so). The alternative hypothesis states, on the other hand, that women were more likely than men to survive. To check if the null hypothesis can be rejected, a test statistic of the following form has to be calculated:\n",
    "\n",
    "$$Z = \\frac{\\hat{p_1} - \\hat{p_2}}{\\sqrt{\\hat{p}(1-\\hat{p})(\\frac{1}{n_1} + \\frac{1}{n_2})}}$$\n",
    "\n",
    "where\n",
    "\n",
    "$$\\hat{p} = \\frac{Y_1 + Y_2}{n_1 + n_2}$$\n",
    "\n",
    "$\\hat{p_1}$ and $\\hat{p_2}$ are proportions of success (in this case, of surviving) for two different categories (in the example: split by gender), whereas $Y_1$ and $Y_2$ are the absolute numbers of survivors in the examined dataset. Consequently, $n_1$ and $n_2$ are the absolute numbers of passengers, as split by gender.\n",
    "\n",
    "The procedure <i>zprop</i> has been constructed to accommodate for any data generated with <i>counted2</i> procedure. It is with this procedure that we will calculate the Z statistic."
   ]
  },
  {
   "cell_type": "code",
   "execution_count": 12,
   "metadata": {
    "collapsed": false
   },
   "outputs": [
    {
     "name": "stdout",
     "output_type": "stream",
     "text": [
      "16.13\n"
     ]
    }
   ],
   "source": [
    "def zprop(data, cat1, cat2, count):\n",
    "    #proportion difference\n",
    "    diff = data.loc[cat1].iloc[1,0] - data.loc[cat2].iloc[1,0]\n",
    "    #count of all people on board\n",
    "    all = data[count].sum()\n",
    "    #and split by gender\n",
    "    n1 = data[count].loc[cat1].sum()\n",
    "    n2 = data[count].loc[cat2].sum()\n",
    "    #people surviving\n",
    "    succ = data[count][1] + data[count][3]\n",
    "    pdash = 1.0*succ/all\n",
    "    #z statistic\n",
    "    z =  diff/np.sqrt(pdash*(1-pdash)*(1.0/n1 + 1.0/n2))\n",
    "    return z.round(2)\n",
    "\n",
    "print zprop(gend_surv, 'female', 'male', 'count')"
   ]
  },
  {
   "cell_type": "markdown",
   "metadata": {},
   "source": [
    "As we can see, the z-stat equals 16.13. If we compare this to a critical value for a one-tailed case $z_c (\\alpha = 0.05) = 1.64 $, we can see that the calculated z falls well within the critical region. As a result, $H_0$ has to be rejected in favour of the alternative hypothesis. Thus, it was calculated that women appeared to be more likely to survive the Titanic crash."
   ]
  },
  {
   "cell_type": "markdown",
   "metadata": {},
   "source": [
    "The second part of 2d analysis concentrates around the question, whether or not passengers from all classes were equally likely to survive the catastrophe. It might make sense that some groups (e.g. richer people) were more priviliged and could hope for a better chance of rescue. A set of statistical hypotheses was prepared:\n",
    "\n",
    "$$H_0: p_1 = p_2 = p_3$$\n",
    "$$H_1: p_1 \\neq p_2 \\neq p_3$$\n",
    "\n",
    "The null hypothesis states that the proportion of survivors is equal in all three groups, whereas the alternative hypothesis states, that proportions are not equal with one another. To test the hypothesis, a chi-square test needs to be performed. By using the stats module from scipy, it is possible to do this by just defining arrays and then performing a stats.chi2_contingency function on the prepared data."
   ]
  },
  {
   "cell_type": "code",
   "execution_count": 13,
   "metadata": {
    "collapsed": false
   },
   "outputs": [
    {
     "name": "stdout",
     "output_type": "stream",
     "text": [
      "                 proportion  count\n",
      "Pclass Survived                   \n",
      "1      0               0.37     80\n",
      "       1               0.63    136\n",
      "2      0               0.53     97\n",
      "       1               0.47     87\n",
      "3      0               0.76    372\n",
      "       1               0.24    119\n",
      " \n",
      "Chi-stat: 102.888988757, p-value: 4.5492517113e-23\n"
     ]
    }
   ],
   "source": [
    "class_surv = counted2(data, 'Pclass','Survived', 'PassengerId')\n",
    "cont_table = np.array([[class_surv['count'].iloc[0], class_surv['count'].iloc[1]], \\\n",
    "                [class_surv['count'].iloc[2], class_surv['count'].iloc[3]], \\\n",
    "                [class_surv['count'].iloc[4], class_surv['count'].iloc[5]]])\n",
    "chi2, p, dof, expected = stats.chi2_contingency(cont_table)\n",
    "print class_surv\n",
    "print ' '\n",
    "print \"Chi-stat: \" + str(chi2) +', ' + \"p-value: \" + str(p)"
   ]
  },
  {
   "cell_type": "markdown",
   "metadata": {},
   "source": [
    "As we can see, the chi statistic is quite large, and the corresponding p-value is extremely small (practically close to 0). Because of p-value being exceptionally small, we can assume that the null hypothesis will be rejected at all $\\alpha$ levels. Thus, at least two out of three proportions differ significantly. A possible further step would be to make pairwise tests to know exactly who (passengers of which class) was more likely to survive."
   ]
  },
  {
   "cell_type": "markdown",
   "metadata": {},
   "source": [
    "The last piece of analysis I would like to prepare tests whether the mean age for the survivors was significantly different from the mean age of non-survivors. It might be inferred that younger people were more likely to get rescued because they could find their way to lifeboats more quickly. On the other hand, older people might have been given quicker access to lifeboats because of gentelmanly manners still ubiquitous at the beginning of the 20th century. As any hypothesis might be valid, it will better to perform a two-tailed test just to check whether the mean ages differ between survivors and non-survivors. To do this, a set of hypotheses will be checked.\n",
    "$$H_0: \\mu_1 = \\mu_2$$\n",
    "$$H_1: \\mu_1 \\neq \\mu_2$$\n",
    "The null hypothesis states that the mean age of survivors and the mean age of non-survivors is equal. The alternative hypothesis states that the means are not equal."
   ]
  },
  {
   "cell_type": "markdown",
   "metadata": {},
   "source": [
    "To perform the test, I will take a slice of the original dataset with just two columns, then divide it into two separate dataframes with one devoted only to survivors and the other to non-survivors. Missing data concerning age will be naturally dropped. "
   ]
  },
  {
   "cell_type": "code",
   "execution_count": 14,
   "metadata": {
    "collapsed": false
   },
   "outputs": [
    {
     "name": "stdout",
     "output_type": "stream",
     "text": [
      "Mean age of survivors: 28.34\n",
      "Mean age of non-survivors: 30.63\n"
     ]
    }
   ],
   "source": [
    "#slicing the dataset\n",
    "dataage = data.ix[:,['Survived', 'Age']]\n",
    "#splitting into two separated dataframe objects (and dropping missing values)\n",
    "dxsurv = dataage.loc[dataage['Survived'] == 1].dropna()\n",
    "dxnsurv = dataage.loc[dataage['Survived'] == 0].dropna()\n",
    "#calculating means\n",
    "print 'Mean age of survivors: ' + str(round(dxsurv['Age'].mean(),2))\n",
    "print 'Mean age of non-survivors: ' + str(round(dxnsurv['Age'].mean(),2))"
   ]
  },
  {
   "cell_type": "markdown",
   "metadata": {},
   "source": [
    "As we can see, the average age for a survivor (the dataframe <i> dxs</i>) is 28.34. On the other hand, the average age for a survivor (the dataframe <i> dxns</i>) is 30.63. To better visualize how the age distribution for each category looks like, a boxplot will be generated (blue dots represent outliers)."
   ]
  },
  {
   "cell_type": "code",
   "execution_count": 15,
   "metadata": {
    "collapsed": false
   },
   "outputs": [
    {
     "data": {
      "text/plain": [
       "<matplotlib.text.Text at 0xa62f1d0>"
      ]
     },
     "execution_count": 15,
     "metadata": {},
     "output_type": "execute_result"
    },
    {
     "data": {
      "image/png": "[encoded data removed]",
      "text/plain": [
       "<matplotlib.figure.Figure at 0xa252f60>"
      ]
     },
     "metadata": {},
     "output_type": "display_data"
    }
   ],
   "source": [
    "#boxplot for each category\n",
    "boxdata = [dxsurv['Age'], dxnsurv['Age']]\n",
    "plt.boxplot(boxdata, 0, 'gD')\n",
    "axes = plt.gca()\n",
    "axes.set_ylim([-10,90])\n",
    "plt.xticks([1,2], ['Survivors', 'Non-survivors'])\n",
    "plt.ylabel('Age in years')"
   ]
  },
  {
   "cell_type": "markdown",
   "metadata": {},
   "source": [
    "As shown with the plot above, there are a few outliers for each category. However, given that the outliers fall within what we can consider acceptable age for the purpose of the analysis (and there are not many of them compared to the total number of passengers, as produced by the code below), they will not be omitted in the analysis. "
   ]
  },
  {
   "cell_type": "code",
   "execution_count": 16,
   "metadata": {
    "collapsed": false
   },
   "outputs": [
    {
     "name": "stdout",
     "output_type": "stream",
     "text": [
      "[ 63.  63.  62.  80.  62.]   Number of outliers: 5\n",
      "Number of observations for survivors with known age: 290\n",
      "[ 71.   70.5  71.   70.   70.   74. ]   Number of outliers: 6\n",
      "Number of observations for non-survivors with known age: 424\n"
     ]
    }
   ],
   "source": [
    "#checking outliers\n",
    "top_points1 = plt.boxplot([dxsurv['Age']], 0, \"gD\")[\"fliers\"][0].get_data()[1]\n",
    "top_points2 = plt.boxplot([dxnsurv['Age']], 0, \"gD\")[\"fliers\"][0].get_data()[1]\n",
    "print top_points1, ' ', 'Number of outliers: ' + str(len(top_points1))\n",
    "print 'Number of observations for survivors with known age: ' + str(len(dxsurv['Age']))\n",
    "print top_points2, ' ', 'Number of outliers: ' + str(len(top_points2))\n",
    "print 'Number of observations for non-survivors with known age: ' + str(len(dxnsurv['Age']))\n",
    "#a line below so that above boxplots are not plotted\n",
    "plt.close()"
   ]
  },
  {
   "cell_type": "markdown",
   "metadata": {},
   "source": [
    "Finally, a t-test will be performed using scipy package."
   ]
  },
  {
   "cell_type": "code",
   "execution_count": 17,
   "metadata": {
    "collapsed": false
   },
   "outputs": [
    {
     "name": "stdout",
     "output_type": "stream",
     "text": [
      "Ttest_indResult(statistic=-2.0666869462538102, pvalue=0.039124654013482488)\n"
     ]
    }
   ],
   "source": [
    "comp_means = stats.ttest_ind(dxsurv['Age'], dxnsurv['Age'])\n",
    "print comp_means"
   ]
  },
  {
   "cell_type": "markdown",
   "metadata": {
    "collapsed": false
   },
   "source": [
    "A t-test performed with scipy package gives $t =$ -2.07 and a p-value of ~0.04. We can reject the null hypothesis at the level of $\\alpha$ = 0.05, as the <br> $t_c$(0.05, df=712) = 1.963 (but not at $\\alpha$ = 0.01, with $t_c$(0.01, df=712) = 2.583). At $\\alpha$ = 0.05 the average age of a survivor is significantly different from the average age of a non-survivor."
   ]
  },
  {
   "cell_type": "markdown",
   "metadata": {},
   "source": [
    "<b><font size='5'>4. Conclusion</b><font size='5'>"
   ]
  },
  {
   "cell_type": "markdown",
   "metadata": {},
   "source": [
    "The following analysis tried to identify whether there are statistically significant differences in the demographics of survivors and non-survivors of the Titanic crash. With the help of several statistical tests, it was concluded that gender appears to play a major role in determining one's survival chances, with women more likely to live a long and happy life. It was also found out that the proportion of survivors seems to differ from one passenger class to another. Finally, at some $\\alpha$ levels, age appears to play a role in the survival chances. Of course, it is important to remember that correlation does not imply causation, but the analysis above still helps to understand who, faced with a shortage of lifeboats and scarce time for evacuation, was more likely to live further."
   ]
  },
  {
   "cell_type": "markdown",
   "metadata": {},
   "source": [
    "<b><font size='5'>5. Bibliography & links</b><font size='5'>"
   ]
  },
  {
   "cell_type": "markdown",
   "metadata": {
    "collapsed": true
   },
   "source": [
    "1. https://en.wikipedia.org/wiki/Sinking_of_the_RMS_Titanic\n",
    " \n",
    "2. http://matplotlib.org/examples/pylab_examples/     #examples of pie charts and box plots\n",
    " \n",
    "3. https://onlinecourses.science.psu.edu/stat414/node/268     #comparing two proportions\n",
    " \n",
    "4. https://web.stanford.edu/~kcobb/hrp259/lecture12.ppt     #comparing three and more proportions\n",
    " \n",
    "5. https://stackoverflow.com     #coding problems\n",
    "\n",
    "6. http://www.uic.edu.hk/~dennisc/statistics/Z-table.png    #z table\n",
    "\n",
    "7. http://www.danielsoper.com/statcalc/calculator.aspx?id=10    #t values calculator "
   ]
  },
  {
   "cell_type": "code",
   "execution_count": null,
   "metadata": {
    "collapsed": true
   },
   "outputs": [],
   "source": []
  }
 ],
 "metadata": {
  "kernelspec": {
   "display_name": "Python 2",
   "language": "python",
   "name": "python2"
  },
  "language_info": {
   "codemirror_mode": {
    "name": "ipython",
    "version": 2
   },
   "file_extension": ".py",
   "mimetype": "text/x-python",
   "name": "python",
   "nbconvert_exporter": "python",
   "pygments_lexer": "ipython2",
   "version": "2.7.11"
  }
 },
 "nbformat": 4,
 "nbformat_minor": 0
}
